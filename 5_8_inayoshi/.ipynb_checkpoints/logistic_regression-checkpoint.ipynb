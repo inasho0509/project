{
 "cells": [
  {
   "cell_type": "markdown",
   "metadata": {},
   "source": [
    "# Logistic regression ハンズオン"
   ]
  },
  {
   "cell_type": "markdown",
   "metadata": {},
   "source": [
    "## 0. ライブラリのインポート"
   ]
  },
  {
   "cell_type": "code",
   "execution_count": 6,
   "metadata": {
    "collapsed": true
   },
   "outputs": [],
   "source": [
    "%matplotlib inline\n",
    "import matplotlib.pyplot as plt\n",
    "import numpy as np\n",
    "from sklearn.datasets import fetch_mldata\n",
    "from sklearn.model_selection import train_test_split"
   ]
  },
  {
   "cell_type": "markdown",
   "metadata": {},
   "source": [
    "## 1. softmax関数\n",
    "入力：$\\boldsymbol{X}=(\\boldsymbol{x_1},\\boldsymbol{x_2},\\cdots,\\boldsymbol{x_N})^T\\in\\mathbb{R}^{N\\times K}$（データ行列）\n",
    "\n",
    "出力：$\\boldsymbol{Y}=(\\boldsymbol{y_1},\\boldsymbol{y_2},\\cdots,\\boldsymbol{y_N})^T\\in\\mathbb{R}^{N\\times K},\\,\\,\\,y_{nk} = softmax(\\boldsymbol{x_n})_k$\n",
    "\n",
    "$$\n",
    "softmax(\\boldsymbol x)_k = \\frac{e^{x_{k}}} {\\Sigma_{i=1}^{K}{e^{x_{i}}}}\\\\\n",
    "$$\n",
    "オーバーフローを防ぐために$\\boldsymbol{x}_n$の最大値を$\\boldsymbol{x}_n$自身から引く\n",
    "$$\n",
    "\\begin{align}\n",
    "softmax(\\boldsymbol{x})_k&= \\frac{e^{x_{k}}} {\\Sigma_{i=1}^{K}{e^{x_{i}}}}=\\frac{e^{-x_{max}}e^{x_{k}}}{e^{-x_{max}}\\Sigma_{i=1}^{K}{e^{x_{i}}}}=\\frac{e^{(x_{k}-x_{max})}} {\\Sigma_{i=1}^{K}{e^{(x_{i}-x_{max})}}}\n",
    "\\end{align}\n",
    "$$"
   ]
  },
  {
   "cell_type": "code",
   "execution_count": 2,
   "metadata": {
    "collapsed": true
   },
   "outputs": [],
   "source": [
    "def softmax(x):\n",
    "    exp_x = np.exp(x - x.max(axis=1, keepdims=True))  # prevent overflow\n",
    "    return exp_x / np.sum(exp_x, axis=1, keepdims=True)"
   ]
  },
  {
   "cell_type": "markdown",
   "metadata": {},
   "source": [
    "## 2. cross entropy\n",
    "入力： $Y=(\\boldsymbol{y_1},\\boldsymbol{y_2},\\cdots,\\boldsymbol{y_N})^T\\in \\mathbb{R}^{N\\times K}$, \n",
    "$T=(\\boldsymbol{t_1},\\boldsymbol{t_2},\\cdots,\\boldsymbol{t_N})\\in \\mathbb{R}^{N\\times K} $\n",
    "\n",
    "($\\boldsymbol{y}_n$はソフトマックス関数の出力，$\\boldsymbol{t}_n$は教師ラベル）\n",
    "\n",
    "出力： $l=\\frac{1}{N}\\sum_{n=1}^Ncross\\_entropy(\\boldsymbol{y}_n,\\boldsymbol{t}_n)\\in\\mathbb{R}^1$\n",
    "$$\n",
    "cross\\_entropy(y, t)=\\sum_i t_i \\log(y_i)\n",
    "$$"
   ]
  },
  {
   "cell_type": "code",
   "execution_count": null,
   "metadata": {
    "collapsed": true
   },
   "outputs": [],
   "source": [
    "def cross_entropy(y, t):\n",
    "    return -np.mean(np.sum(t*np.log(y), axis=1))"
   ]
  },
  {
   "cell_type": "markdown",
   "metadata": {},
   "source": [
    "## 3. accuracy"
   ]
  },
  {
   "cell_type": "code",
   "execution_count": null,
   "metadata": {
    "collapsed": true
   },
   "outputs": [],
   "source": [
    "def accuracy(y, t):\n",
    "    return np.mean(y==t)"
   ]
  },
  {
   "cell_type": "markdown",
   "metadata": {},
   "source": [
    "## 4. LogisticRegressionsクラス"
   ]
  },
  {
   "cell_type": "markdown",
   "metadata": {},
   "source": [
    "勾配降下法: （$\\boldsymbol{W}：重み行列$）\n",
    "$$\n",
    "\\boldsymbol{W}\\leftarrow\\boldsymbol{W}-\\epsilon\\nabla_{\\boldsymbol{W}}J(\\boldsymbol{W})\\,\\,\\,(\\epsilon:学習率)\n",
    "$$\n",
    "ロジスティック回帰の勾配 :($\\boldsymbol{X}:データ行列,\\,\\,\\,\\boldsymbol{Y}：ロジスティック回帰による予測値,\\,\\,\\,\\boldsymbol{T}:正解ラベル$)\n",
    "$$\n",
    "\\nabla_{\\boldsymbol{W}}J(\\boldsymbol{W})=\\boldsymbol{X}^T(\\boldsymbol{Y}-\\boldsymbol{T})\n",
    "$$\n",
    "\n",
    "\n"
   ]
  },
  {
   "cell_type": "code",
   "execution_count": 5,
   "metadata": {
    "collapsed": true
   },
   "outputs": [],
   "source": [
    "class LogisticRegression:\n",
    "    def __init__(self, n_in, n_out):\n",
    "        self.W = np.random.uniform(0.08, -0.08, (n_in, n_out))\n",
    "        self.b = np.zeros(n_out)\n",
    "\n",
    "    def train(self, x, t, lr):\n",
    "        y = softmax(np.dot(x, self.W) + self.b)\n",
    "        delta = y - t\n",
    "        \n",
    "        self.W -= lr * np.dot(x.T, delta)\n",
    "        self.b -= lr * np.mean(delta, axis=0)\n",
    "        \n",
    "        loss = cross_entropy(y, t)\n",
    "        return y, loss\n",
    "\n",
    "    def test(self, x, t):\n",
    "        y = softmax(np.dot(x, self.W) + self.b)\n",
    "        loss = cross_entropy(y, t)\n",
    "        return y, loss"
   ]
  },
  {
   "cell_type": "markdown",
   "metadata": {},
   "source": [
    "## Mnistデータのロード"
   ]
  },
  {
   "cell_type": "code",
   "execution_count": null,
   "metadata": {
    "collapsed": true
   },
   "outputs": [],
   "source": [
    "mnist = fetch_mldata('MNIST original')\n",
    "X,T = mnist.data, mnist.target\n",
    "X = X / 255."
   ]
  },
  {
   "cell_type": "markdown",
   "metadata": {},
   "source": [
    "## データの可視化"
   ]
  },
  {
   "cell_type": "code",
   "execution_count": 11,
   "metadata": {
    "collapsed": false
   },
   "outputs": [
    {
     "data": {
      "image/png": "[encoded data removed]",
      "text/plain": [
       "<matplotlib.figure.Figure at 0x12e7a2898>"
      ]
     },
     "metadata": {},
     "output_type": "display_data"
    }
   ],
   "source": [
    "for i in range(10):\n",
    "    plt.subplot(2, 5, i + 1)\n",
    "    plt.imshow(X[i * 6500].reshape(28, 28), cmap='gray_r')\n",
    "    plt.axis(\"off\")"
   ]
  },
  {
   "cell_type": "code",
   "execution_count": 12,
   "metadata": {
    "collapsed": true
   },
   "outputs": [],
   "source": [
    "X_train, X_test, T_train, T_test = train_test_split(X, T, test_size=0.2)\n",
    "N_train = X_train.shape[0]\n",
    "N_test = X_test.shape[0]\n",
    "T_train = T_train.astype(\"int\")\n",
    "T_test = T_test.astype(\"int\")"
   ]
  },
  {
   "cell_type": "code",
   "execution_count": 13,
   "metadata": {
    "collapsed": false
   },
   "outputs": [
    {
     "name": "stdout",
     "output_type": "stream",
     "text": [
      "epoch 0 |Train loss 0.433, accuracy 0.8782 |Test loss 0.374, accuracy 0.8918\n",
      "epoch 1 |Train loss 0.320, accuracy 0.9084 |Test loss 0.327, accuracy 0.9084\n",
      "epoch 2 |Train loss 0.310, accuracy 0.9133 |Test loss 0.329, accuracy 0.9034\n",
      "epoch 3 |Train loss 0.300, accuracy 0.9154 |Test loss 0.328, accuracy 0.9065\n",
      "epoch 4 |Train loss 0.296, accuracy 0.9172 |Test loss 0.311, accuracy 0.9113\n",
      "epoch 5 |Train loss 0.290, accuracy 0.9193 |Test loss 0.327, accuracy 0.9046\n",
      "epoch 6 |Train loss 0.289, accuracy 0.9196 |Test loss 0.314, accuracy 0.9121\n",
      "epoch 7 |Train loss 0.285, accuracy 0.9203 |Test loss 0.303, accuracy 0.9151\n",
      "epoch 8 |Train loss 0.283, accuracy 0.9209 |Test loss 0.308, accuracy 0.9141\n",
      "epoch 9 |Train loss 0.280, accuracy 0.9213 |Test loss 0.325, accuracy 0.9076\n",
      "epoch 10 |Train loss 0.279, accuracy 0.9229 |Test loss 0.320, accuracy 0.9124\n",
      "epoch 11 |Train loss 0.278, accuracy 0.9224 |Test loss 0.337, accuracy 0.9066\n",
      "epoch 12 |Train loss 0.277, accuracy 0.9231 |Test loss 0.329, accuracy 0.9044\n",
      "epoch 13 |Train loss 0.276, accuracy 0.9243 |Test loss 0.317, accuracy 0.9115\n",
      "epoch 14 |Train loss 0.275, accuracy 0.9224 |Test loss 0.315, accuracy 0.9118\n",
      "epoch 15 |Train loss 0.271, accuracy 0.9253 |Test loss 0.321, accuracy 0.9094\n",
      "epoch 16 |Train loss 0.270, accuracy 0.9247 |Test loss 0.312, accuracy 0.9154\n",
      "epoch 17 |Train loss 0.271, accuracy 0.9245 |Test loss 0.311, accuracy 0.9144\n",
      "epoch 18 |Train loss 0.270, accuracy 0.9253 |Test loss 0.315, accuracy 0.9134\n",
      "epoch 19 |Train loss 0.268, accuracy 0.9257 |Test loss 0.307, accuracy 0.9162\n"
     ]
    }
   ],
   "source": [
    "n_epoch = 20\n",
    "batchsize = 100\n",
    "lr = 0.01\n",
    "\n",
    "model = LogisticRegression(784, 10)\n",
    "\n",
    "for epoch in range(n_epoch):\n",
    "    print ('epoch %d |' % epoch, end=\"\")\n",
    "    \n",
    "    # Training\n",
    "    sum_loss = 0\n",
    "    pred_label = []\n",
    "    perm = np.random.permutation(N_train)\n",
    "    \n",
    "    for i in range(0, N_train, batchsize):\n",
    "        x = X_train[perm[i:i+batchsize]]\n",
    "        t = np.eye(10)[T_train[perm[i:i+batchsize]]]\n",
    "        \n",
    "        y, loss = model.train(x, t, lr)\n",
    "        sum_loss += loss * x.shape[0]\n",
    "        pred_label.extend(y.argmax(axis=1))\n",
    "    \n",
    "    loss = sum_loss / N_train\n",
    "    accu = accuracy(pred_label, T_train[perm])\n",
    "    print('Train loss %.3f, accuracy %.4f |' %(loss, accu), end=\"\")\n",
    "    \n",
    "    \n",
    "    # Testing\n",
    "    sum_loss = 0\n",
    "    pred_label = []\n",
    "    \n",
    "    for i in range(0, N_test, batchsize):\n",
    "        x = X_test[i: i+batchsize]\n",
    "        t = np.eye(10)[T_test[i: i+batchsize]]\n",
    "        \n",
    "        y, loss = model.test(x, t)\n",
    "        sum_loss += loss * x.shape[0]\n",
    "        pred_label.extend(y.argmax(axis=1))\n",
    "        \n",
    "    loss = sum_loss / N_test\n",
    "    accu = accuracy(pred_label, T_test)\n",
    "    print('Test loss %.3f, accuracy %.4f' %(loss, accu) )"
   ]
  },
  {
   "cell_type": "code",
   "execution_count": null,
   "metadata": {
    "collapsed": true
   },
   "outputs": [],
   "source": []
  }
 ],
 "metadata": {
  "kernelspec": {
   "display_name": "Python 3",
   "language": "python",
   "name": "python3"
  },
  "language_info": {
   "codemirror_mode": {
    "name": "ipython",
    "version": 3
   },
   "file_extension": ".py",
   "mimetype": "text/x-python",
   "name": "python",
   "nbconvert_exporter": "python",
   "pygments_lexer": "ipython3",
   "version": "3.6.0"
  }
 },
 "nbformat": 4,
 "nbformat_minor": 2
}

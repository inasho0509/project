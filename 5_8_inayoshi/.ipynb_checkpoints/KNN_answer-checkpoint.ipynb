{
 "cells": [
  {
   "cell_type": "markdown",
   "metadata": {},
   "source": [
    "## k近傍法　(k-nearest neighbor algorithm, k-NN)\n",
    "入力パターンに近いk個の学習パターンを取り上げ，最も多数を占めたカテゴリを入力パターンのカテゴリとする．\n",
    "<br />\n",
    "<br />\n",
    "アルゴリズム：\n",
    "1. 入力パターンと全ての学習パターンとの距離を計算する．\n",
    "2.  距離の昇順に学習パターンをソートする．\n",
    "3.  ソートした学習パターンの上位k個を取り上げ，最も出現回数の多いカテゴリを出力する．\n",
    "<br />\n",
    "<br />\n",
    "\n",
    "<img src=\"./fig/knn.png\"　width=\"500\" height=\"400\">"
   ]
  },
  {
   "cell_type": "markdown",
   "metadata": {},
   "source": [
    "##  目次\n",
    "- [目標](#目標)\n",
    "- [下準備](#下準備)\n",
    "- [距離関数の実装](#距離関数の実装)\n",
    "- [k近傍法の実装](#k近傍法の実装)\n",
    "- [k近傍法の実行](#k近傍法の実行)"
   ]
  },
  {
   "cell_type": "markdown",
   "metadata": {},
   "source": [
    "<a name=\"目標\"></a>\n",
    "### 目標\n",
    "- k近傍法で用いる距離関数を実装する．\n",
    "    - [課題1： コサイン距離の実装](#コサイン距離)\n",
    "    - [課題2： ユークリッド距離の実装](#ユークリッド距離)\n",
    "- k近傍法のアルゴリズム全体を実装する．\n",
    "    - [課題3： k近傍法の実装](#k近傍法)\n",
    "- MNISTデータと二種類の距離関数を用いてk近傍法を実行する．"
   ]
  },
  {
   "cell_type": "markdown",
   "metadata": {},
   "source": [
    "<a name=\"下準備\"></a>\n",
    "### 下準備\n"
   ]
  },
  {
   "cell_type": "markdown",
   "metadata": {},
   "source": [
    "#### ライブラリのインストール"
   ]
  },
  {
   "cell_type": "code",
   "execution_count": null,
   "metadata": {
    "collapsed": false
   },
   "outputs": [],
   "source": [
    "import numpy as np\n",
    "import matplotlib.pyplot as plt\n",
    "from matplotlib import cm\n",
    "%matplotlib inline\n",
    "from sklearn.datasets import fetch_mldata\n",
    "from sklearn.cross_validation import train_test_split\n",
    "from sklearn.metrics import f1_score, accuracy_score\n",
    "from __future__ import print_function\n",
    "from test_knn import *"
   ]
  },
  {
   "cell_type": "markdown",
   "metadata": {},
   "source": [
    "#### MNISTデータの読み込み\n",
    "X：画像データ(各画像784次元）， Y：ラベル"
   ]
  },
  {
   "cell_type": "code",
   "execution_count": null,
   "metadata": {
    "collapsed": false
   },
   "outputs": [],
   "source": [
    "mnist = fetch_mldata('MNIST original', data_home='./data/')\n",
    "X, Y = mnist.data, mnist.target\n",
    "X = np.array(X/255.0, dtype=np.float32)\n",
    "Y = np.array(Y, dtype=np.uint8)\n",
    "# class数\n",
    "class_num = 10\n",
    "print(\"X.shape: \" + str(X.shape), \", Y.shape: \" + str(Y.shape))"
   ]
  },
  {
   "cell_type": "markdown",
   "metadata": {},
   "source": [
    "#### データセットの可視化"
   ]
  },
  {
   "cell_type": "code",
   "execution_count": null,
   "metadata": {
    "collapsed": false
   },
   "outputs": [],
   "source": [
    "for i in range(class_num):\n",
    "    plt.subplot(2, 5, i + 1)\n",
    "    plt.imshow(X[i * 6500].reshape(28, 28), cmap='gray_r')\n",
    "    plt.axis(\"off\")"
   ]
  },
  {
   "cell_type": "markdown",
   "metadata": {},
   "source": [
    "#### データセットの削減\n",
    "距離の計算にかなり時間がかかるためデータセットを70000から3000に削減する"
   ]
  },
  {
   "cell_type": "code",
   "execution_count": null,
   "metadata": {
    "collapsed": false
   },
   "outputs": [],
   "source": [
    "np.random.seed(100)\n",
    "random_sample = np.arange(len(X))\n",
    "np.random.shuffle(random_sample)\n",
    "X = X[random_sample[:3000]]\n",
    "Y = Y[random_sample[:3000]]"
   ]
  },
  {
   "cell_type": "markdown",
   "metadata": {},
   "source": [
    "#### 学習用・検証用・テスト用データの分割\n",
    "- 学習用データ(train_x, train_y)：入力パターンのラベルを決定するために用いるデータ\n",
    "- 検証用データ(val_x, val_y)：最適なハイパーパラメータ（k）を算出するためのデータ\n",
    "- テスト用データ(test_x, test_y)：検証用データを用いて算出されたハイパーパラメータを用いて手法の性能をテストするためのデータ"
   ]
  },
  {
   "cell_type": "code",
   "execution_count": null,
   "metadata": {
    "collapsed": false
   },
   "outputs": [],
   "source": [
    "#テスト用データを分ける\n",
    "train_X, test_x, train_Y, test_y = train_test_split(X, Y, test_size=0.2, random_state=2)\n",
    "#学習用データと検証用データを分ける\n",
    "train_x, val_x, train_y, val_y = train_test_split(train_X, train_Y, test_size=0.1, random_state=42)"
   ]
  },
  {
   "cell_type": "code",
   "execution_count": null,
   "metadata": {
    "collapsed": false
   },
   "outputs": [],
   "source": [
    "print('train data:',train_x.shape,', train label:',train_y.shape)\n",
    "print('val data:   ',val_x.shape,',    val label:   ',val_y.shape)\n",
    "print('test data: ',test_x.shape,',   test label: ',test_y.shape)"
   ]
  },
  {
   "cell_type": "markdown",
   "metadata": {},
   "source": [
    "### 距離関数の実装\n",
    "<a name=\"距離関数の実装\"></a>"
   ]
  },
  {
   "cell_type": "markdown",
   "metadata": {},
   "source": [
    "<a name=\"コサイン距離\"></a>\n",
    "<h4><font color=\"Orange\">\n",
    "課題1：コサイン距離の実装\n",
    "</h4>\n",
    "</font>\n",
    "\n",
    "- 関数：cosine_distance\n",
    " \n",
    "    - 入力：$\\boldsymbol{X}=(\\boldsymbol{x}_1,\\boldsymbol{x}_2,\\cdots\\boldsymbol{x}_{N})^{T}\\in\\mathbb{R}^{N\\times D},　\\boldsymbol{Y}=(\\boldsymbol{y}_1,\\boldsymbol{y}_2,\\cdots\\boldsymbol{y}_{M})^{T}\\in\\mathbb{R}^{M\\times D}$\n",
    "      \n",
    "    - 出力：$\\boldsymbol{Z}\\in\\mathbb{R}^{N\\times M},　z_{nm}=cos(\\boldsymbol{x}_n,\\boldsymbol{y}_m)$\n",
    "    \n",
    "    \n",
    "\n",
    "- コサイン距離 :\n",
    "$$ \n",
    "cos(\\boldsymbol{x},\\boldsymbol{y}) = 1- \\frac{\\boldsymbol{x}\\boldsymbol{y}}{|\\boldsymbol{x}||\\boldsymbol{y}|}\\\\\n",
    "$$"
   ]
  },
  {
   "cell_type": "markdown",
   "metadata": {},
   "source": [
    "<details>\n",
    "<summary>\n",
    "課題1：ヒント\n",
    "</summary>\n",
    "<ol>\n",
    "    <li>Zの初期化（Xの要素数$\\times$Yの要素数）\n",
    "    <ul> \n",
    "        <li>要素が0の配列を生成：`np.zeros(shape)`</li>\n",
    "        <li>Xの要素数：`X.shape[0]`</li>\n",
    "    </ul></li>\n",
    "    <li>Z[n][m]にX[n]とY[m]のコサイン距離を代入\n",
    "    <ul>\n",
    "    <li>ベクトルX[n]のノルム計算：`np.linalg.norm(X[n])`</li>\n",
    "    <li>ベクトルX[n]とY[m]の内積：`np.dot(X[n], Y[m])`</li>\n",
    "    </ul></li>\n",
    "    </ol>\n",
    "</details>"
   ]
  },
  {
   "cell_type": "code",
   "execution_count": null,
   "metadata": {
    "collapsed": false
   },
   "outputs": [],
   "source": [
    "def cosine_distance(X, Y):\n",
    "        # TODO\n",
    "        # Zの初期化\n",
    "        Z = np.zeros((X.shape[0], Y.shape[0]))\n",
    "        # Z[n][m]にX[n]とY[m]のコサイン距離を代入\n",
    "        for n in range(X.shape[0]):\n",
    "            for m in range(Y.shape[0]):\n",
    "                Z[n][m] = 1 - np.dot(X[n],Y[m]) / np.linalg.norm(X[n]) / np.linalg.norm(Y[m])\n",
    "        # TODO\n",
    "        return Z"
   ]
  },
  {
   "cell_type": "markdown",
   "metadata": {},
   "source": [
    "高速化のための実装例\n",
    "``` python\n",
    "def cosine_distance(X, Y):\n",
    "        X = X / np.linalg.norm(X, axis=1, keepdims=True)\n",
    "        Y = Y / np.linalg.norm(Y, axis=1, keepdims=True)\n",
    "        Z = 1 - np.dot(X, Y.T)\n",
    "        return Z\n",
    "    ```"
   ]
  },
  {
   "cell_type": "markdown",
   "metadata": {},
   "source": [
    "#### 課題1のテスト\n",
    "OKが表示されたら次に進む"
   ]
  },
  {
   "cell_type": "code",
   "execution_count": null,
   "metadata": {
    "collapsed": false
   },
   "outputs": [],
   "source": [
    "test_cosine(cosine_distance)"
   ]
  },
  {
   "cell_type": "markdown",
   "metadata": {},
   "source": [
    "<a name=\"ユークリッド距離\"></a>\n",
    "<h4><font color=\"Orange\">\n",
    "課題2：ユークリッド距離の実装\n",
    "</h4>\n",
    "</font>\n",
    "- 関数：euclidian_distance\n",
    "    - 入力：$\\boldsymbol{X}=(\\boldsymbol{x}_1,\\boldsymbol{x}_2,\\cdots\\boldsymbol{x}_{N})^{T}\\in\\mathbb{R}^{N\\times d}$,　$\\boldsymbol{Y}=(\\boldsymbol{y}_1,\\boldsymbol{y}_2,\\cdots\\boldsymbol{y}_{M})^{T}\\in\\mathbb{R}^{M\\times d}$\n",
    "\n",
    "    - 出力：$\\boldsymbol{Z}\\in\\mathbb{R}^{N\\times M},　z_{nm}=d(\\boldsymbol{x}_n,\\boldsymbol{y}_m)$\n",
    "\n",
    "- ユークリッド距離 :\n",
    "$$ d(x,y)=\\sqrt{(x_1-y_1)^2+(x_2-y_2)^2+\\cdots(x_D-y_D)^2} $$"
   ]
  },
  {
   "cell_type": "markdown",
   "metadata": {},
   "source": [
    "<details>\n",
    "<summary>\n",
    "課題2：ヒント\n",
    "</summary>\n",
    "<ol>\n",
    "    <li>Zの初期化（Xの要素数×Yの要素数）\n",
    "    <ul> \n",
    "        <li>要素が0の配列を生成：`np.zeros(shape)`</li>\n",
    "        <li>Xの要素数：`X.shape[0]`</li>\n",
    "    </ul></li>\n",
    "    <li>Z[n][m]にX[n]とY[m]のユークリッド距離を代入\n",
    "    <ul>\n",
    "    <li>ベクトルのノルム計算：`np.linalg.norm(X[n])`</li>\n",
    "    </ul></li>\n",
    "    </ol>\n",
    "</details>"
   ]
  },
  {
   "cell_type": "code",
   "execution_count": null,
   "metadata": {
    "collapsed": true
   },
   "outputs": [],
   "source": [
    "def euclidean_distance(X, Y):\n",
    "        # TODO\n",
    "        # Zの初期化\n",
    "        Z = np.zeros((X.shape[0], Y.shape[0]))\n",
    "        # Z[n][m]にX[n]とY[m]のユークリッド距離を代入\n",
    "        for n in range(X.shape[0]):\n",
    "            for m in range(Y.shape[0]):\n",
    "                Z[n][m] = np.linalg.norm(X[n] - Y[m])\n",
    "        #TODO\n",
    "        return Z"
   ]
  },
  {
   "cell_type": "markdown",
   "metadata": {},
   "source": [
    "高速化のための実装例：\n",
    "```python\n",
    "def euclidean_distance(X, Y):\n",
    "    X = X[:, np.newaxis, :]\n",
    "    X = np.hstack([X for i in range(Y.shape[0])])\n",
    "    Y = Y[np.newaxis, :, :]\n",
    "    Y = np.vstack([Y for i in range(X.shape[0])])\n",
    "    Z = np.linalg.norm(X - Y, axis=2)\n",
    "    return Z\n",
    " ```"
   ]
  },
  {
   "cell_type": "markdown",
   "metadata": {},
   "source": [
    "#### 課題2のテスト\n",
    "OKが表示されたら次に進む"
   ]
  },
  {
   "cell_type": "code",
   "execution_count": null,
   "metadata": {
    "collapsed": false
   },
   "outputs": [],
   "source": [
    "test_euclidean(euclidean_distance)"
   ]
  },
  {
   "cell_type": "markdown",
   "metadata": {},
   "source": [
    "<a name=\"k近傍法の実装\"></a>\n",
    "### k近傍法の実装"
   ]
  },
  {
   "cell_type": "markdown",
   "metadata": {},
   "source": [
    "<a name=\"k近傍法\"></a>\n",
    "<h4><font color=\"Orange\">\n",
    "課題3：k近傍法の実装\n",
    "</h4>\n",
    "</font>\n",
    "- 関数：KNN.prediction\n",
    "    - 入力：\n",
    "        - 入力パターン：$\\boldsymbol{X}=(\\boldsymbol{x_1},\\boldsymbol{x_2},\\cdots,\\boldsymbol{x_N})^T\\in\\mathbb{R}^{N\\times D}$\n",
    "        - k近傍法のk: $k$\n",
    "    \n",
    "    - 出力：\n",
    "        - 入力パターンの予測ラベル：$\\boldsymbol{Y}=(y_1,y_2,\\cdots,y_N)\\in\\mathbb{R}^{N}$\n",
    "    - インスタンス変数\n",
    "        - 学習データ：self.train_x\n",
    "        - 学習ラベル：self.train_y\n",
    "        - 距離関数：distance_func()\n",
    "    "
   ]
  },
  {
   "cell_type": "markdown",
   "metadata": {},
   "source": [
    "<details>\n",
    "<summary>\n",
    "課題3：ヒント1（入力パターンXと全ての学習パターンself.train_xとの距離を計算する）\n",
    "</summary>\n",
    "<ul>\n",
    "        <li>`distance_matrix = self.distance_func(X, self.train_x)`\n",
    "            <img src=\"./fig/distance.png\" width=\"360\" height=\"280\">\n",
    "        </li>\n",
    "</ul>\n",
    "</details>"
   ]
  },
  {
   "cell_type": "markdown",
   "metadata": {},
   "source": [
    "<details>\n",
    "<summary>\n",
    "課題3：ヒント2（距離の昇順に学習パターンをソートする）\n",
    "</summary>\n",
    "    <ul>\n",
    "    <li>`sort_index = np.argsort(distance_matrix, axis = 1)`\n",
    "    <img src=\"./fig/argsort.png\" width=\"600\" height=\"300\">\n",
    "    </li>\n",
    "   </ul>"
   ]
  },
  {
   "cell_type": "markdown",
   "metadata": {},
   "source": [
    "<details>\n",
    "<summary>\n",
    "課題3：ヒント3（ソートした学習パターンの上位k個を取り上げ，最も出現回数の多いカテゴリを出力する ）\n",
    "</summary>\n",
    "<ul>\n",
    "    <li>上位k個のインデックスを取り出す：`nearest_k = sort_index[???]`</li>\n",
    "    <li>上位k個のラベルを取り出す：`labels = self.train_y[nearest_k]`</li>\n",
    "    <li>上位k個のラベルに各ラベルが何個ずつ含まれるか調べる：\n",
    "    <img src=\"./fig/label_num.png\"　width=\"600\" height=\"128\">\n",
    "    <ul>\n",
    "        <li>np.eye(class_num)[labels]でラベルをone-hot表現にする<br>\n",
    "        <img src=\"./fig/label.png\"　width=\"350\" height=\"300\">\n",
    "        <li>axis=1方向に合計をとる\n",
    "        <img src=\"./fig/label_num1.png\"　width=\"350\" height=\"100\">\n",
    "     <li>上位k個のラベルで最も多いラベルを調べる：np.argmax()</li>\n",
    "    </ul></li>\n",
    "    </ul>\n",
    "</details>"
   ]
  },
  {
   "cell_type": "code",
   "execution_count": null,
   "metadata": {
    "collapsed": false
   },
   "outputs": [],
   "source": [
    "class KNN:\n",
    "    def __init__(self, x, y, func=cosine_distance):\n",
    "        self.train_x = x\n",
    "        self.train_y = y\n",
    "        self.distance_func = func\n",
    "    \n",
    "    #入力パターンに対して予測ラベルを返す\n",
    "    def prediction(self, X, k):\n",
    "        ### TODO\n",
    "        #1. 全ての入力パターンと全ての学習データとの距離を計算する．\n",
    "        distance_matrix = self.distance_func(X, self.train_x)\n",
    "        #2.  距離のに学習パターンをソートする\n",
    "        sort_index = np.argsort(distance_matrix, axis=1) #distance_matrixを昇順にソートするインデックスを返す\n",
    "        #3.  ソートした学習パターンの上位k個を取り上げ，最も出現回数の多いカテゴリを出力する\n",
    "        nearest_k = sort_index[:,:k] #上位k個のインデックスを取り出す\n",
    "        labels = self.train_y[nearest_k] #上位k個のラベルを取り出す\n",
    "        label_num = np.sum(np.eye(class_num)[labels], axis=1) #上位k個のラベルに各ラベルが何個ずつ含まれるか調べる\n",
    "        Y = np.argmax(label_num, axis=1) #上位k個のラベルで最も多いラベルを調べる\n",
    "        ### TODO\n",
    "        return Y\n",
    "    \n",
    "    #予測データと正解データを用いてaccuracyを計算する\n",
    "    def get_accuracy(self, pred, real, eval_func=accuracy_score):\n",
    "        accuracy = eval_func(pred, real)\n",
    "        return accuracy\n",
    "    \n",
    "    # 最適なkを見つけるためにkを変化させて予測を行い，最も性能が高いkを返す\n",
    "    def find_k(self, val_x, val_y, k_list):\n",
    "        score_list = []\n",
    "        #for k in tqdm(k_list): \n",
    "        for k in k_list:\n",
    "            pred = self.prediction(val_x, k)\n",
    "            accuracy = self.get_accuracy(pred, val_y)\n",
    "            print('k：{0}, accuracy：{1:.5f}'.format(k,accuracy))\n",
    "            score_list.append(accuracy)\n",
    "\n",
    "        top_ind = np.argmax(score_list)\n",
    "        best_k = k_list[top_ind]\n",
    "        print('best k : {0}, val score : {1:.5f}'.format(best_k,score_list[top_ind]))\n",
    "        return best_k"
   ]
  },
  {
   "cell_type": "markdown",
   "metadata": {},
   "source": [
    "#### 課題3のテスト\n",
    "OKが表示されたら次に進む"
   ]
  },
  {
   "cell_type": "code",
   "execution_count": null,
   "metadata": {
    "collapsed": false
   },
   "outputs": [],
   "source": [
    "test_knn(KNN)"
   ]
  },
  {
   "cell_type": "markdown",
   "metadata": {},
   "source": [
    "### k近傍法の実行\n",
    "<a name=\"k近傍法の実行\"></a>"
   ]
  },
  {
   "cell_type": "markdown",
   "metadata": {},
   "source": [
    "#### コサイン距離を用いる場合"
   ]
  },
  {
   "cell_type": "code",
   "execution_count": null,
   "metadata": {
    "collapsed": false
   },
   "outputs": [],
   "source": [
    "#インスタンス生成\n",
    "knn = KNN(train_x, train_y, func = cosine_distance)\n",
    "#検証用データval_xを用いて最適なkを算出する\n",
    "k_list = np.arange(1,21,2)\n",
    "best_k = knn.find_k(val_x, val_y, k_list)\n",
    "#検証用データで算出したkを用いてテストデータのクラスを予測する\n",
    "pred_y = knn.prediction(test_x, best_k)\n",
    "#正解率の計算\n",
    "result = knn.get_accuracy(pred_y, test_y)\n",
    "print('test_accuracy :　{0:.5f}'.format(result))"
   ]
  },
  {
   "cell_type": "markdown",
   "metadata": {},
   "source": [
    "#### ユークリッド距離を用いる場合"
   ]
  },
  {
   "cell_type": "code",
   "execution_count": null,
   "metadata": {
    "collapsed": false
   },
   "outputs": [],
   "source": [
    "knn = KNN(train_x, train_y, func = euclidean_distance)\n",
    "#検証用データval_xを用いて最適なkを算出する\n",
    "k_list = np.arange(1,21,2)\n",
    "best_k = knn.find_k(val_x, val_y, k_list)\n",
    "#検証用データで算出したkを用いてテストデータのクラスを予測する\n",
    "pred_y = knn.prediction(test_x, best_k)\n",
    "#正解率の計算\n",
    "result = knn.get_accuracy(pred_y, test_y)\n",
    "print('test_accuracy :　{0:.5f}'.format(result))"
   ]
  },
  {
   "cell_type": "markdown",
   "metadata": {},
   "source": [
    "test_accuracyがいずれの場合も約90パーセントであれば正解である．\n",
    "\n",
    "k近傍法はシンプルだが，入力パターンと学習パターンの全てに対して距離を計算しなければならないので，識別に時間がかかる．<br>\n",
    "コサイン距離やユークリッド距離を計算する際にfor文を使わない実装例を解答に示したので確認してみよう．"
   ]
  }
 ],
 "metadata": {
  "kernelspec": {
   "display_name": "Python 3",
   "language": "python",
   "name": "python3"
  },
  "language_info": {
   "codemirror_mode": {
    "name": "ipython",
    "version": 3
   },
   "file_extension": ".py",
   "mimetype": "text/x-python",
   "name": "python",
   "nbconvert_exporter": "python",
   "pygments_lexer": "ipython3",
   "version": "3.6.0"
  }
 },
 "nbformat": 4,
 "nbformat_minor": 2
}
